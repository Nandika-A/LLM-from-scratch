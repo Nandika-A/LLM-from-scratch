{
  "nbformat": 4,
  "nbformat_minor": 0,
  "metadata": {
    "colab": {
      "provenance": [],
      "authorship_tag": "ABX9TyP5xWZ9I/MqflXDx8XWbhiB",
      "include_colab_link": true
    },
    "kernelspec": {
      "name": "python3",
      "display_name": "Python 3"
    },
    "language_info": {
      "name": "python"
    }
  },
  "cells": [
    {
      "cell_type": "markdown",
      "metadata": {
        "id": "view-in-github",
        "colab_type": "text"
      },
      "source": [
        "<a href=\"https://colab.research.google.com/github/Nandika-A/LLM-from-scratch/blob/main/LLM_from_scratch.ipynb\" target=\"_parent\"><img src=\"https://colab.research.google.com/assets/colab-badge.svg\" alt=\"Open In Colab\"/></a>"
      ]
    },
    {
      "cell_type": "markdown",
      "source": [
        "# Preparing the data"
      ],
      "metadata": {
        "id": "paVWeQr0D4Sd"
      }
    },
    {
      "cell_type": "code",
      "execution_count": null,
      "metadata": {
        "id": "lx3i31i7cFG0"
      },
      "outputs": [],
      "source": [
        "import os\n",
        "import urllib.request"
      ]
    },
    {
      "cell_type": "code",
      "source": [
        "if not os.path.exists(\"the-verict.txt\"):\n",
        "  url = (\"https://raw.githubusercontent.com/rasbt/LLMs-from-scratch/refs/heads/main/ch02/01_main-chapter-code/the-verdict.txt\")\n",
        "  urllib.request.urlretrieve(url, \"the-verdict.txt\")\n"
      ],
      "metadata": {
        "id": "_whZ4VZV0fd7"
      },
      "execution_count": null,
      "outputs": []
    },
    {
      "cell_type": "code",
      "source": [
        "with open(\"the-verdict.txt\", \"r\", encoding=\"utf-8\") as f:\n",
        "  raw_text = f.read()"
      ],
      "metadata": {
        "id": "nr2itZ5X06vI"
      },
      "execution_count": null,
      "outputs": []
    },
    {
      "cell_type": "code",
      "source": [
        "raw_text"
      ],
      "metadata": {
        "colab": {
          "base_uri": "https://localhost:8080/",
          "height": 125
        },
        "id": "6__AyX-z1vm6",
        "outputId": "bc8eb1b4-c971-4e92-a89d-f02869651923"
      },
      "execution_count": null,
      "outputs": [
        {
          "output_type": "execute_result",
          "data": {
            "text/plain": [
              "'I HAD always thought Jack Gisburn rather a cheap genius--though a good fellow enough--so it was no great surprise to me to hear that, in the height of his glory, he had dropped his painting, married a rich widow, and established himself in a villa on the Riviera. (Though I rather thought it would have been Rome or Florence.)\\n\\n\"The height of his glory\"--that was what the women called it. I can hear Mrs. Gideon Thwing--his last Chicago sitter--deploring his unaccountable abdication. \"Of course it\\'s going to send the value of my picture \\'way up; but I don\\'t think of that, Mr. Rickham--the loss to Arrt is all I think of.\" The word, on Mrs. Thwing\\'s lips, multiplied its _rs_ as though they were reflected in an endless vista of mirrors. And it was not only the Mrs. Thwings who mourned. Had not the exquisite Hermia Croft, at the last Grafton Gallery show, stopped me before Gisburn\\'s \"Moon-dancers\" to say, with tears in her eyes: \"We shall not look upon its like again\"?\\n\\nWell!--even through the prism of Hermia\\'s tears I felt able to face the fact with equanimity. Poor Jack Gisburn! The women had made him--it was fitting that they should mourn him. Among his own sex fewer regrets were heard, and in his own trade hardly a murmur. Professional jealousy? Perhaps. If it were, the honour of the craft was vindicated by little Claude Nutley, who, in all good faith, brought out in the Burlington a very handsome \"obituary\" on Jack--one of those showy articles stocked with random technicalities that I have heard (I won\\'t say by whom) compared to Gisburn\\'s painting. And so--his resolve being apparently irrevocable--the discussion gradually died out, and, as Mrs. Thwing had predicted, the price of \"Gisburns\" went up.\\n\\nIt was not till three years later that, in the course of a few weeks\\' idling on the Riviera, it suddenly occurred to me to wonder why Gisburn had given up his painting. On reflection, it really was a tempting problem. To accuse his wife would have been too easy--his fair sitters had been denied the solace of saying that Mrs. Gisburn had \"dragged him down.\" For Mrs. Gisburn--as such--had not existed till nearly a year after Jack\\'s resolve had been taken. It might be that he had married her--since he liked his ease--because he didn\\'t want to go on painting; but it would have been hard to prove that he had given up his painting because he had married her.\\n\\nOf course, if she had not dragged him down, she had equally, as Miss Croft contended, failed to \"lift him up\"--she had not led him back to the easel. To put the brush into his hand again--what a vocation for a wife! But Mrs. Gisburn appeared to have disdained it--and I felt it might be interesting to find out why.\\n\\nThe desultory life of the Riviera lends itself to such purely academic speculations; and having, on my way to Monte Carlo, caught a glimpse of Jack\\'s balustraded terraces between the pines, I had myself borne thither the next day.\\n\\nI found the couple at tea beneath their palm-trees; and Mrs. Gisburn\\'s welcome was so genial that, in the ensuing weeks, I claimed it frequently. It was not that my hostess was \"interesting\": on that point I could have given Miss Croft the fullest reassurance. It was just because she was _not_ interesting--if I may be pardoned the bull--that I found her so. For Jack, all his life, had been surrounded by interesting women: they had fostered his art, it had been reared in the hot-house of their adulation. And it was therefore instructive to note what effect the \"deadening atmosphere of mediocrity\" (I quote Miss Croft) was having on him.\\n\\nI have mentioned that Mrs. Gisburn was rich; and it was immediately perceptible that her husband was extracting from this circumstance a delicate but substantial satisfaction. It is, as a rule, the people who scorn money who get most out of it; and Jack\\'s elegant disdain of his wife\\'s big balance enabled him, with an appearance of perfect good-breeding, to transmute it into objects of art and luxury. To the latter, I must add, he remained relatively indifferent; but he was buying Renaissance bronzes and eighteenth-century pictures with a discrimination that bespoke the amplest resources.\\n\\n\"Money\\'s only excuse is to put beauty into circulation,\" was one of the axioms he laid down across the Sevres and silver of an exquisitely appointed luncheon-table, when, on a later day, I had again run over from Monte Carlo; and Mrs. Gisburn, beaming on him, added for my enlightenment: \"Jack is so morbidly sensitive to every form of beauty.\"\\n\\nPoor Jack! It had always been his fate to have women say such things of him: the fact should be set down in extenuation. What struck me now was that, for the first time, he resented the tone. I had seen him, so often, basking under similar tributes--was it the conjugal note that robbed them of their savour? No--for, oddly enough, it became apparent that he was fond of Mrs. Gisburn--fond enough not to see her absurdity. It was his own absurdity he seemed to be wincing under--his own attitude as an object for garlands and incense.\\n\\n\"My dear, since I\\'ve chucked painting people don\\'t say that stuff about me--they say it about Victor Grindle,\" was his only protest, as he rose from the table and strolled out onto the sunlit terrace.\\n\\nI glanced after him, struck by his last word. Victor Grindle was, in fact, becoming the man of the moment--as Jack himself, one might put it, had been the man of the hour. The younger artist was said to have formed himself at my friend\\'s feet, and I wondered if a tinge of jealousy underlay the latter\\'s mysterious abdication. But no--for it was not till after that event that the _rose Dubarry_ drawing-rooms had begun to display their \"Grindles.\"\\n\\nI turned to Mrs. Gisburn, who had lingered to give a lump of sugar to her spaniel in the dining-room.\\n\\n\"Why _has_ he chucked painting?\" I asked abruptly.\\n\\nShe raised her eyebrows with a hint of good-humoured surprise.\\n\\n\"Oh, he doesn\\'t _have_ to now, you know; and I want him to enjoy himself,\" she said quite simply.\\n\\nI looked about the spacious white-panelled room, with its _famille-verte_ vases repeating the tones of the pale damask curtains, and its eighteenth-century pastels in delicate faded frames.\\n\\n\"Has he chucked his pictures too? I haven\\'t seen a single one in the house.\"\\n\\nA slight shade of constraint crossed Mrs. Gisburn\\'s open countenance. \"It\\'s his ridiculous modesty, you know. He says they\\'re not fit to have about; he\\'s sent them all away except one--my portrait--and that I have to keep upstairs.\"\\n\\nHis ridiculous modesty--Jack\\'s modesty about his pictures? My curiosity was growing like the bean-stalk. I said persuasively to my hostess: \"I must really see your portrait, you know.\"\\n\\nShe glanced out almost timorously at the terrace where her husband, lounging in a hooded chair, had lit a cigar and drawn the Russian deerhound\\'s head between his knees.\\n\\n\"Well, come while he\\'s not looking,\" she said, with a laugh that tried to hide her nervousness; and I followed her between the marble Emperors of the hall, and up the wide stairs with terra-cotta nymphs poised among flowers at each landing.\\n\\nIn the dimmest corner of her boudoir, amid a profusion of delicate and distinguished objects, hung one of the familiar oval canvases, in the inevitable garlanded frame. The mere outline of the frame called up all Gisburn\\'s past!\\n\\nMrs. Gisburn drew back the window-curtains, moved aside a _jardiniere_ full of pink azaleas, pushed an arm-chair away, and said: \"If you stand here you can just manage to see it. I had it over the mantel-piece, but he wouldn\\'t let it stay.\"\\n\\nYes--I could just manage to see it--the first portrait of Jack\\'s I had ever had to strain my eyes over! Usually they had the place of honour--say the central panel in a pale yellow or _rose Dubarry_ drawing-room, or a monumental easel placed so that it took the light through curtains of old Venetian point. The more modest place became the picture better; yet, as my eyes grew accustomed to the half-light, all the characteristic qualities came out--all the hesitations disguised as audacities, the tricks of prestidigitation by which, with such consummate skill, he managed to divert attention from the real business of the picture to some pretty irrelevance of detail. Mrs. Gisburn, presenting a neutral surface to work on--forming, as it were, so inevitably the background of her own picture--had lent herself in an unusual degree to the display of this false virtuosity. The picture was one of Jack\\'s \"strongest,\" as his admirers would have put it--it represented, on his part, a swelling of muscles, a congesting of veins, a balancing, straddling and straining, that reminded one of the circus-clown\\'s ironic efforts to lift a feather. It met, in short, at every point the demand of lovely woman to be painted \"strongly\" because she was tired of being painted \"sweetly\"--and yet not to lose an atom of the sweetness.\\n\\n\"It\\'s the last he painted, you know,\" Mrs. Gisburn said with pardonable pride. \"The last but one,\" she corrected herself--\"but the other doesn\\'t count, because he destroyed it.\"\\n\\n\"Destroyed it?\" I was about to follow up this clue when I heard a footstep and saw Jack himself on the threshold.\\n\\nAs he stood there, his hands in the pockets of his velveteen coat, the thin brown waves of hair pushed back from his white forehead, his lean sunburnt cheeks furrowed by a smile that lifted the tips of a self-confident moustache, I felt to what a degree he had the same quality as his pictures--the quality of looking cleverer than he was.\\n\\nHis wife glanced at him deprecatingly, but his eyes travelled past her to the portrait.\\n\\n\"Mr. Rickham wanted to see it,\" she began, as if excusing herself. He shrugged his shoulders, still smiling.\\n\\n\"Oh, Rickham found me out long ago,\" he said lightly; then, passing his arm through mine: \"Come and see the rest of the house.\"\\n\\nHe showed it to me with a kind of naive suburban pride: the bath-rooms, the speaking-tubes, the dress-closets, the trouser-presses--all the complex simplifications of the millionaire\\'s domestic economy. And whenever my wonder paid the expected tribute he said, throwing out his chest a little: \"Yes, I really don\\'t see how people manage to live without that.\"\\n\\nWell--it was just the end one might have foreseen for him. Only he was, through it all and in spite of it all--as he had been through, and in spite of, his pictures--so handsome, so charming, so disarming, that one longed to cry out: \"Be dissatisfied with your leisure!\" as once one had longed to say: \"Be dissatisfied with your work!\"\\n\\nBut, with the cry on my lips, my diagnosis suffered an unexpected check.\\n\\n\"This is my own lair,\" he said, leading me into a dark plain room at the end of the florid vista. It was square and brown and leathery: no \"effects\"; no bric-a-brac, none of the air of posing for reproduction in a picture weekly--above all, no least sign of ever having been used as a studio.\\n\\nThe fact brought home to me the absolute finality of Jack\\'s break with his old life.\\n\\n\"Don\\'t you ever dabble with paint any more?\" I asked, still looking about for a trace of such activity.\\n\\n\"Never,\" he said briefly.\\n\\n\"Or water-colour--or etching?\"\\n\\nHis confident eyes grew dim, and his cheeks paled a little under their handsome sunburn.\\n\\n\"Never think of it, my dear fellow--any more than if I\\'d never touched a brush.\"\\n\\nAnd his tone told me in a flash that he never thought of anything else.\\n\\nI moved away, instinctively embarrassed by my unexpected discovery; and as I turned, my eye fell on a small picture above the mantel-piece--the only object breaking the plain oak panelling of the room.\\n\\n\"Oh, by Jove!\" I said.\\n\\nIt was a sketch of a donkey--an old tired donkey, standing in the rain under a wall.\\n\\n\"By Jove--a Stroud!\" I cried.\\n\\nHe was silent; but I felt him close behind me, breathing a little quickly.\\n\\n\"What a wonder! Made with a dozen lines--but on everlasting foundations. You lucky chap, where did you get it?\"\\n\\nHe answered slowly: \"Mrs. Stroud gave it to me.\"\\n\\n\"Ah--I didn\\'t know you even knew the Strouds. He was such an inflexible hermit.\"\\n\\n\"I didn\\'t--till after. . . . She sent for me to paint him when he was dead.\"\\n\\n\"When he was dead? You?\"\\n\\nI must have let a little too much amazement escape through my surprise, for he answered with a deprecating laugh: \"Yes--she\\'s an awful simpleton, you know, Mrs. Stroud. Her only idea was to have him done by a fashionable painter--ah, poor Stroud! She thought it the surest way of proclaiming his greatness--of forcing it on a purblind public. And at the moment I was _the_ fashionable painter.\"\\n\\n\"Ah, poor Stroud--as you say. Was _that_ his history?\"\\n\\n\"That was his history. She believed in him, gloried in him--or thought she did. But she couldn\\'t bear not to have all the drawing-rooms with her. She couldn\\'t bear the fact that, on varnishing days, one could always get near enough to see his pictures. Poor woman! She\\'s just a fragment groping for other fragments. Stroud is the only whole I ever knew.\"\\n\\n\"You ever knew? But you just said--\"\\n\\nGisburn had a curious smile in his eyes.\\n\\n\"Oh, I knew him, and he knew me--only it happened after he was dead.\"\\n\\nI dropped my voice instinctively. \"When she sent for you?\"\\n\\n\"Yes--quite insensible to the irony. She wanted him vindicated--and by me!\"\\n\\nHe laughed again, and threw back his head to look up at the sketch of the donkey. \"There were days when I couldn\\'t look at that thing--couldn\\'t face it. But I forced myself to put it here; and now it\\'s cured me--cured me. That\\'s the reason why I don\\'t dabble any more, my dear Rickham; or rather Stroud himself is the reason.\"\\n\\nFor the first time my idle curiosity about my companion turned into a serious desire to understand him better.\\n\\n\"I wish you\\'d tell me how it happened,\" I said.\\n\\nHe stood looking up at the sketch, and twirling between his fingers a cigarette he had forgotten to light. Suddenly he turned toward me.\\n\\n\"I\\'d rather like to tell you--because I\\'ve always suspected you of loathing my work.\"\\n\\nI made a deprecating gesture, which he negatived with a good-humoured shrug.\\n\\n\"Oh, I didn\\'t care a straw when I believed in myself--and now it\\'s an added tie between us!\"\\n\\nHe laughed slightly, without bitterness, and pushed one of the deep arm-chairs forward. \"There: make yourself comfortable--and here are the cigars you like.\"\\n\\nHe placed them at my elbow and continued to wander up and down the room, stopping now and then beneath the picture.\\n\\n\"How it happened? I can tell you in five minutes--and it didn\\'t take much longer to happen. . . . I can remember now how surprised and pleased I was when I got Mrs. Stroud\\'s note. Of course, deep down, I had always _felt_ there was no one like him--only I had gone with the stream, echoed the usual platitudes about him, till I half got to think he was a failure, one of the kind that are left behind. By Jove, and he _was_ left behind--because he had come to stay! The rest of us had to let ourselves be swept along or go under, but he was high above the current--on everlasting foundations, as you say.\\n\\n\"Well, I went off to the house in my most egregious mood--rather moved, Lord forgive me, at the pathos of poor Stroud\\'s career of failure being crowned by the glory of my painting him! Of course I meant to do the picture for nothing--I told Mrs. Stroud so when she began to stammer something about her poverty. I remember getting off a prodigious phrase about the honour being _mine_--oh, I was princely, my dear Rickham! I was posing to myself like one of my own sitters.\\n\\n\"Then I was taken up and left alone with him. I had sent all my traps in advance, and I had only to set up the easel and get to work. He had been dead only twenty-four hours, and he died suddenly, of heart disease, so that there had been no preliminary work of destruction--his face was clear and untouched. I had met him once or twice, years before, and thought him insignificant and dingy. Now I saw that he was superb.\\n\\n\"I was glad at first, with a merely aesthetic satisfaction: glad to have my hand on such a \\'subject.\\' Then his strange life-likeness began to affect me queerly--as I blocked the head in I felt as if he were watching me do it. The sensation was followed by the thought: if he _were_ watching me, what would he say to my way of working? My strokes began to go a little wild--I felt nervous and uncertain.\\n\\n\"Once, when I looked up, I seemed to see a smile behind his close grayish beard--as if he had the secret, and were amusing himself by holding it back from me. That exasperated me still more. The secret? Why, I had a secret worth twenty of his! I dashed at the canvas furiously, and tried some of my bravura tricks. But they failed me, they crumbled. I saw that he wasn\\'t watching the showy bits--I couldn\\'t distract his attention; he just kept his eyes on the hard passages between. Those were the ones I had always shirked, or covered up with some lying paint. And how he saw through my lies!\\n\\n\"I looked up again, and caught sight of that sketch of the donkey hanging on the wall near his bed. His wife told me afterward it was the last thing he had done--just a note taken with a shaking hand, when he was down in Devonshire recovering from a previous heart attack. Just a note! But it tells his whole history. There are years of patient scornful persistence in every line. A man who had swum with the current could never have learned that mighty up-stream stroke. . . .\\n\\n\"I turned back to my work, and went on groping and muddling; then I looked at the donkey again. I saw that, when Stroud laid in the first stroke, he knew just what the end would be. He had possessed his subject, absorbed it, recreated it. When had I done that with any of my things? They hadn\\'t been born of me--I had just adopted them. . . .\\n\\n\"Hang it, Rickham, with that face watching me I couldn\\'t do another stroke. The plain truth was, I didn\\'t know where to put it--_I had never known_. Only, with my sitters and my public, a showy splash of colour covered up the fact--I just threw paint into their faces. . . . Well, paint was the one medium those dead eyes could see through--see straight to the tottering foundations underneath. Don\\'t you know how, in talking a foreign language, even fluently, one says half the time not what one wants to but what one can? Well--that was the way I painted; and as he lay there and watched me, the thing they called my \\'technique\\' collapsed like a house of cards. He didn\\'t sneer, you understand, poor Stroud--he just lay there quietly watching, and on his lips, through the gray beard, I seemed to hear the question: \\'Are you sure you know where you\\'re coming out?\\'\\n\\n\"If I could have painted that face, with that question on it, I should have done a great thing. The next greatest thing was to see that I couldn\\'t--and that grace was given me. But, oh, at that minute, Rickham, was there anything on earth I wouldn\\'t have given to have Stroud alive before me, and to hear him say: \\'It\\'s not too late--I\\'ll show you how\\'?\\n\\n\"It _was_ too late--it would have been, even if he\\'d been alive. I packed up my traps, and went down and told Mrs. Stroud. Of course I didn\\'t tell her _that_--it would have been Greek to her. I simply said I couldn\\'t paint him, that I was too moved. She rather liked the idea--she\\'s so romantic! It was that that made her give me the donkey. But she was terribly upset at not getting the portrait--she did so want him \\'done\\' by some one showy! At first I was afraid she wouldn\\'t let me off--and at my wits\\' end I suggested Grindle. Yes, it was I who started Grindle: I told Mrs. Stroud he was the \\'coming\\' man, and she told somebody else, and so it got to be true. . . . And he painted Stroud without wincing; and she hung the picture among her husband\\'s things. . . .\"\\n\\nHe flung himself down in the arm-chair near mine, laid back his head, and clasping his arms beneath it, looked up at the picture above the chimney-piece.\\n\\n\"I like to fancy that Stroud himself would have given it to me, if he\\'d been able to say what he thought that day.\"\\n\\nAnd, in answer to a question I put half-mechanically--\"Begin again?\" he flashed out. \"When the one thing that brings me anywhere near him is that I knew enough to leave off?\"\\n\\nHe stood up and laid his hand on my shoulder with a laugh. \"Only the irony of it is that I _am_ still painting--since Grindle\\'s doing it for me! The Strouds stand alone, and happen once--but there\\'s no exterminating our kind of art.\"'"
            ],
            "application/vnd.google.colaboratory.intrinsic+json": {
              "type": "string"
            }
          },
          "metadata": {},
          "execution_count": 445
        }
      ]
    },
    {
      "cell_type": "code",
      "source": [
        "len(raw_text)"
      ],
      "metadata": {
        "colab": {
          "base_uri": "https://localhost:8080/"
        },
        "id": "YjBbgCFA1xED",
        "outputId": "456913ad-91ff-44cc-ed90-c37bfee869e0"
      },
      "execution_count": null,
      "outputs": [
        {
          "output_type": "execute_result",
          "data": {
            "text/plain": [
              "20479"
            ]
          },
          "metadata": {},
          "execution_count": 446
        }
      ]
    },
    {
      "cell_type": "code",
      "source": [
        "import re"
      ],
      "metadata": {
        "id": "6zyeTxSr1yr-"
      },
      "execution_count": null,
      "outputs": []
    },
    {
      "cell_type": "markdown",
      "source": [
        "## Break down text into tokens"
      ],
      "metadata": {
        "id": "8MsbZqvJ27TM"
      }
    },
    {
      "cell_type": "code",
      "source": [
        "preprocessed = re.split(r'([,.:;?_!\"()\\']|--|\\s)', raw_text)\n",
        "preprocessed = [item.strip() for item in preprocessed if item.strip()]"
      ],
      "metadata": {
        "id": "aDgtgg_42GnL"
      },
      "execution_count": null,
      "outputs": []
    },
    {
      "cell_type": "code",
      "source": [
        "preprocessed[:10]"
      ],
      "metadata": {
        "colab": {
          "base_uri": "https://localhost:8080/"
        },
        "id": "rQ-paLOV2sCh",
        "outputId": "2d2a63a4-5880-460b-e2f8-85a8617d55ea"
      },
      "execution_count": null,
      "outputs": [
        {
          "output_type": "execute_result",
          "data": {
            "text/plain": [
              "['I',\n",
              " 'HAD',\n",
              " 'always',\n",
              " 'thought',\n",
              " 'Jack',\n",
              " 'Gisburn',\n",
              " 'rather',\n",
              " 'a',\n",
              " 'cheap',\n",
              " 'genius']"
            ]
          },
          "metadata": {},
          "execution_count": 449
        }
      ]
    },
    {
      "cell_type": "markdown",
      "source": [
        "## Convert tokens into token Ids"
      ],
      "metadata": {
        "id": "qQfVuQrp2_tj"
      }
    },
    {
      "cell_type": "code",
      "source": [
        "all_words = sorted(set(preprocessed))"
      ],
      "metadata": {
        "id": "xgakFacD2tQ5"
      },
      "execution_count": null,
      "outputs": []
    },
    {
      "cell_type": "code",
      "source": [
        "vocab_size = len(all_words)"
      ],
      "metadata": {
        "id": "kgtdxB_x3J4a"
      },
      "execution_count": null,
      "outputs": []
    },
    {
      "cell_type": "code",
      "source": [
        "print(vocab_size)"
      ],
      "metadata": {
        "colab": {
          "base_uri": "https://localhost:8080/"
        },
        "id": "WN050E4i3NF5",
        "outputId": "6ea631ee-5e3c-4e35-fc18-aace0aefe885"
      },
      "execution_count": null,
      "outputs": [
        {
          "output_type": "stream",
          "name": "stdout",
          "text": [
            "1130\n"
          ]
        }
      ]
    },
    {
      "cell_type": "code",
      "source": [
        "vocab = {token:integer for integer,token in enumerate(all_words)}"
      ],
      "metadata": {
        "id": "auu95ymG3OON"
      },
      "execution_count": null,
      "outputs": []
    },
    {
      "cell_type": "code",
      "source": [
        "len(vocab)"
      ],
      "metadata": {
        "colab": {
          "base_uri": "https://localhost:8080/"
        },
        "id": "gmIEn0Kw3VX0",
        "outputId": "febb8f53-6e69-4947-d6d0-157faa7ab624"
      },
      "execution_count": null,
      "outputs": [
        {
          "output_type": "execute_result",
          "data": {
            "text/plain": [
              "1130"
            ]
          },
          "metadata": {},
          "execution_count": 454
        }
      ]
    },
    {
      "cell_type": "markdown",
      "source": [
        "Use this vocabulary to convert each word into an integer"
      ],
      "metadata": {
        "id": "DL6NEfaS3g-t"
      }
    },
    {
      "cell_type": "markdown",
      "source": [
        "Now encode the text into token Ids"
      ],
      "metadata": {
        "id": "9i5ln6Qc3obW"
      }
    },
    {
      "cell_type": "code",
      "source": [
        "class SimpleTokenizerV1:\n",
        "  def __init__(self, vocab):\n",
        "    self.str_to_int = vocab\n",
        "    self.int_to_str = {i:s for s,i in vocab.items()}\n",
        "\n",
        "  def encode(self, text):\n",
        "    preprocessed = re.split(r'([,.:;?_!\"()\\']|--|\\s)', text)\n",
        "    preprocessed = [item.strip() for item in preprocessed if item.strip()]\n",
        "    ids = [self.str_to_int[i] for i in preprocessed]\n",
        "    return ids\n",
        "\n",
        "  def decode(self, ids):\n",
        "    text = \" \".join([self.int_to_str[i] for i in ids])\n",
        "    text = re.sub(r'\\s+([,.?!\"()\\'])', r'\\1', text)\n",
        "    return text"
      ],
      "metadata": {
        "id": "_CSazEth3cYl"
      },
      "execution_count": null,
      "outputs": []
    },
    {
      "cell_type": "markdown",
      "source": [
        "This tokenizer can only work for the words in the vocabulary. Otherwise it gives error."
      ],
      "metadata": {
        "id": "7I6I2Bwc6BIJ"
      }
    },
    {
      "cell_type": "code",
      "source": [
        "tokenizer = SimpleTokenizerV1(vocab)"
      ],
      "metadata": {
        "id": "kPR1aViw384E"
      },
      "execution_count": null,
      "outputs": []
    },
    {
      "cell_type": "code",
      "source": [
        "new_text = \"This is good!\"\n",
        "ids = tokenizer.encode(new_text)\n",
        "print(ids)"
      ],
      "metadata": {
        "colab": {
          "base_uri": "https://localhost:8080/"
        },
        "id": "yEnY8fHQ4wd4",
        "outputId": "0064ee4a-523c-47df-b0d4-12cc19ac75c8"
      },
      "execution_count": null,
      "outputs": [
        {
          "output_type": "stream",
          "name": "stdout",
          "text": [
            "[97, 584, 500, 0]\n"
          ]
        }
      ]
    },
    {
      "cell_type": "code",
      "source": [
        "tokenizer.decode(ids)"
      ],
      "metadata": {
        "colab": {
          "base_uri": "https://localhost:8080/",
          "height": 35
        },
        "id": "Pw4L7zBP44ei",
        "outputId": "18e7aec4-db7e-4c32-e87b-40ec603c8b56"
      },
      "execution_count": null,
      "outputs": [
        {
          "output_type": "execute_result",
          "data": {
            "text/plain": [
              "'This is good!'"
            ],
            "application/vnd.google.colaboratory.intrinsic+json": {
              "type": "string"
            }
          },
          "metadata": {},
          "execution_count": 458
        }
      ]
    },
    {
      "cell_type": "markdown",
      "source": [
        "## Special context tokens\n",
        "Like end-of-text token\n",
        "\n",
        "We also want if the word isn't in the vocabulary, the tokenizer shouldn't fail but extend those tokens in the vocabulary."
      ],
      "metadata": {
        "id": "Blpkzbx65op8"
      }
    },
    {
      "cell_type": "code",
      "source": [
        "all_words.extend([\"<|endoftext|>\", \"<|unk|>\"])\n",
        "vocab = {token:integer for integer,token in enumerate(all_words)}"
      ],
      "metadata": {
        "id": "5VPoKmGQ5AYh"
      },
      "execution_count": null,
      "outputs": []
    },
    {
      "cell_type": "code",
      "source": [
        "len(vocab)"
      ],
      "metadata": {
        "colab": {
          "base_uri": "https://localhost:8080/"
        },
        "id": "pkUc9jVc7_jl",
        "outputId": "07c7bc54-fc63-4cf0-83a3-096840891de5"
      },
      "execution_count": null,
      "outputs": [
        {
          "output_type": "execute_result",
          "data": {
            "text/plain": [
              "1132"
            ]
          },
          "metadata": {},
          "execution_count": 460
        }
      ]
    },
    {
      "cell_type": "code",
      "source": [
        "class SimpleTokenizerV2:\n",
        "  def __init__(self, vocab):\n",
        "    self.str_to_int = vocab\n",
        "    self.int_to_str = {i:s for s,i in vocab.items()}\n",
        "\n",
        "  def encode(self, text):\n",
        "    preprocessed = re.split(r'([,.:;?_!\"()\\']|--|\\s)', text)\n",
        "    preprocessed = [item.strip() for item in preprocessed if item.strip()]\n",
        "    preprocessed = [\n",
        "            item if item in self.str_to_int\n",
        "            else \"<|unk|>\" for item in preprocessed\n",
        "        ]\n",
        "    ids = [self.str_to_int[i] for i in preprocessed]\n",
        "    return ids\n",
        "\n",
        "  def decode(self, ids):\n",
        "    text = \" \".join([self.int_to_str[i] for i in ids])\n",
        "    text = re.sub(r'\\s+([,.?!\"()\\'])', r'\\1', text)\n",
        "    return text"
      ],
      "metadata": {
        "id": "V2zPXIDi6xkH"
      },
      "execution_count": null,
      "outputs": []
    },
    {
      "cell_type": "code",
      "source": [
        "tokenizer = SimpleTokenizerV2(vocab)"
      ],
      "metadata": {
        "id": "pGx1kqpy7t7V"
      },
      "execution_count": null,
      "outputs": []
    },
    {
      "cell_type": "code",
      "source": [
        "text = \"Hello World, This is good!\""
      ],
      "metadata": {
        "id": "uN5OLYhW7x6T"
      },
      "execution_count": null,
      "outputs": []
    },
    {
      "cell_type": "code",
      "source": [
        "ids = tokenizer.encode(text)"
      ],
      "metadata": {
        "id": "jO0Ginr570m-"
      },
      "execution_count": null,
      "outputs": []
    },
    {
      "cell_type": "code",
      "source": [
        "tokenizer.decode(ids)"
      ],
      "metadata": {
        "colab": {
          "base_uri": "https://localhost:8080/",
          "height": 35
        },
        "id": "skeELJCO72mn",
        "outputId": "d80f3631-737d-41d6-e196-80580ad27f06"
      },
      "execution_count": null,
      "outputs": [
        {
          "output_type": "execute_result",
          "data": {
            "text/plain": [
              "'<|unk|> <|unk|>, This is good!'"
            ],
            "application/vnd.google.colaboratory.intrinsic+json": {
              "type": "string"
            }
          },
          "metadata": {},
          "execution_count": 465
        }
      ]
    },
    {
      "cell_type": "markdown",
      "source": [
        "## Byte pair encoding\n",
        "Algo for handling unknown tokens\n",
        "It breaks down longer words into known subwords instead of substituting unknown token. So, one word may become many tokens, but it never fails"
      ],
      "metadata": {
        "id": "zAR1Kgbz8us_"
      }
    },
    {
      "cell_type": "code",
      "source": [
        "import tiktoken"
      ],
      "metadata": {
        "id": "iZtE8iUh8ng_"
      },
      "execution_count": null,
      "outputs": []
    },
    {
      "cell_type": "code",
      "source": [
        "tiktoken.__version__"
      ],
      "metadata": {
        "colab": {
          "base_uri": "https://localhost:8080/",
          "height": 35
        },
        "id": "MfseHFcu-ZN6",
        "outputId": "19e96892-2174-4145-d53d-2a18c54a0913"
      },
      "execution_count": null,
      "outputs": [
        {
          "output_type": "execute_result",
          "data": {
            "text/plain": [
              "'0.9.0'"
            ],
            "application/vnd.google.colaboratory.intrinsic+json": {
              "type": "string"
            }
          },
          "metadata": {},
          "execution_count": 467
        }
      ]
    },
    {
      "cell_type": "markdown",
      "source": [
        "Tiktoken library has tokenizers of many models. Here we are using Gpt2. The actual library is in rust with a python API."
      ],
      "metadata": {
        "id": "_oCIzCHa-4tg"
      }
    },
    {
      "cell_type": "code",
      "source": [
        "tokenizer = tiktoken.get_encoding(\"gpt2\")"
      ],
      "metadata": {
        "id": "zFRqCDcV-tEX"
      },
      "execution_count": null,
      "outputs": []
    },
    {
      "cell_type": "code",
      "source": [
        "tokenizer.n_vocab"
      ],
      "metadata": {
        "colab": {
          "base_uri": "https://localhost:8080/"
        },
        "id": "LZKsJfKkIJaO",
        "outputId": "595cd99f-9f1f-40c9-bd24-9c33c7bb97e1"
      },
      "execution_count": null,
      "outputs": [
        {
          "output_type": "execute_result",
          "data": {
            "text/plain": [
              "50257"
            ]
          },
          "metadata": {},
          "execution_count": 469
        }
      ]
    },
    {
      "cell_type": "code",
      "source": [
        "ids = tokenizer.encode(\"hello world!\")"
      ],
      "metadata": {
        "id": "UhpeSy0n-4Aw"
      },
      "execution_count": null,
      "outputs": []
    },
    {
      "cell_type": "code",
      "source": [
        "tokenizer.decode(ids)"
      ],
      "metadata": {
        "colab": {
          "base_uri": "https://localhost:8080/",
          "height": 35
        },
        "id": "fFAHyxgO_F5y",
        "outputId": "dab74c5f-688b-4fa3-cc87-2800522eba6b"
      },
      "execution_count": null,
      "outputs": [
        {
          "output_type": "execute_result",
          "data": {
            "text/plain": [
              "'hello world!'"
            ],
            "application/vnd.google.colaboratory.intrinsic+json": {
              "type": "string"
            }
          },
          "metadata": {},
          "execution_count": 471
        }
      ]
    },
    {
      "cell_type": "markdown",
      "source": [
        "<|endoftext|> token is added to denote the end of the document."
      ],
      "metadata": {
        "id": "uyZDzB0F_f9H"
      }
    },
    {
      "cell_type": "code",
      "source": [
        "ids = tokenizer.encode(\"hello world! <|endoftext|> hi\", allowed_special={\"<|endoftext|>\"})"
      ],
      "metadata": {
        "id": "OTEAUUA5_JwV"
      },
      "execution_count": null,
      "outputs": []
    },
    {
      "cell_type": "markdown",
      "source": [
        "## Data Sampling with sliding window"
      ],
      "metadata": {
        "id": "POnfsxxJAK1I"
      }
    },
    {
      "cell_type": "markdown",
      "source": [
        "LLMs predict one word at a time. This helps them to scale and train efficiently, as label gets labelled itself."
      ],
      "metadata": {
        "id": "Zm1qtKH_Afeo"
      }
    },
    {
      "cell_type": "code",
      "source": [
        "context_size = 4"
      ],
      "metadata": {
        "id": "jRYL0_-J_43K"
      },
      "execution_count": null,
      "outputs": []
    },
    {
      "cell_type": "markdown",
      "source": [
        "no. of tokens in the window, which is passed to the LLM as LLM can't receive all the tokens at once for training, generally in thousands"
      ],
      "metadata": {
        "id": "rilFyyMiBuxv"
      }
    },
    {
      "cell_type": "code",
      "source": [
        "ids = tokenizer.encode(raw_text)"
      ],
      "metadata": {
        "id": "Ez8OUT7oBQ37"
      },
      "execution_count": null,
      "outputs": []
    },
    {
      "cell_type": "code",
      "source": [
        "ids[:30]"
      ],
      "metadata": {
        "colab": {
          "base_uri": "https://localhost:8080/"
        },
        "id": "UKXsJOkSCO1q",
        "outputId": "ef03ac05-f488-4ee3-c25c-2a9f155e1524"
      },
      "execution_count": null,
      "outputs": [
        {
          "output_type": "execute_result",
          "data": {
            "text/plain": [
              "[40,\n",
              " 367,\n",
              " 2885,\n",
              " 1464,\n",
              " 1807,\n",
              " 3619,\n",
              " 402,\n",
              " 271,\n",
              " 10899,\n",
              " 2138,\n",
              " 257,\n",
              " 7026,\n",
              " 15632,\n",
              " 438,\n",
              " 2016,\n",
              " 257,\n",
              " 922,\n",
              " 5891,\n",
              " 1576,\n",
              " 438,\n",
              " 568,\n",
              " 340,\n",
              " 373,\n",
              " 645,\n",
              " 1049,\n",
              " 5975,\n",
              " 284,\n",
              " 502,\n",
              " 284,\n",
              " 3285]"
            ]
          },
          "metadata": {},
          "execution_count": 475
        }
      ]
    },
    {
      "cell_type": "code",
      "source": [
        "x = ids[:context_size]\n",
        "y = ids[1:context_size+1]\n",
        "print(x)\n",
        "print(y)"
      ],
      "metadata": {
        "colab": {
          "base_uri": "https://localhost:8080/"
        },
        "id": "4F2BNZzaCQL5",
        "outputId": "271792b1-cdf0-44c3-f9ba-b7cab928c42b"
      },
      "execution_count": null,
      "outputs": [
        {
          "output_type": "stream",
          "name": "stdout",
          "text": [
            "[40, 367, 2885, 1464]\n",
            "[367, 2885, 1464, 1807]\n"
          ]
        }
      ]
    },
    {
      "cell_type": "markdown",
      "source": [
        "Three tokens overlap, as that is the prediction result. If input is 40, LLM should predict 367 and so on."
      ],
      "metadata": {
        "id": "RtU6RXuyCv-U"
      }
    },
    {
      "cell_type": "markdown",
      "source": [
        "## Create the dataset"
      ],
      "metadata": {
        "id": "eXBMIzwDDrVR"
      }
    },
    {
      "cell_type": "code",
      "source": [
        "import torch"
      ],
      "metadata": {
        "id": "WU7mIbw8DHRE"
      },
      "execution_count": null,
      "outputs": []
    },
    {
      "cell_type": "code",
      "source": [
        "from torch.utils.data import Dataset, DataLoader"
      ],
      "metadata": {
        "id": "0T7c1qaODKyx"
      },
      "execution_count": null,
      "outputs": []
    },
    {
      "cell_type": "code",
      "source": [
        "class GPTDatasetV1(Dataset):\n",
        "  def __init__(self, txt, tokenizer, max_length, stride):\n",
        "    self.input_ids = []\n",
        "    self.target_ids = []\n",
        "\n",
        "    token_ids = tokenizer.encode(txt, allowed_special={\"<|endoftext|>\"})\n",
        "\n",
        "    for i in range(0, len(token_ids) - max_length, stride):\n",
        "            input_chunk = token_ids[i:i + max_length]\n",
        "            target_chunk = token_ids[i + 1: i + max_length + 1]\n",
        "            self.input_ids.append(torch.tensor(input_chunk))\n",
        "            self.target_ids.append(torch.tensor(target_chunk)) # not optimal way if number of tokens is very large, can't use in memory storage\n",
        "\n",
        "  def __len__(self):\n",
        "        return len(self.input_ids)\n",
        "\n",
        "  def __getitem__(self, idx):\n",
        "        return self.input_ids[idx], self.target_ids[idx]"
      ],
      "metadata": {
        "id": "4UetKQ8AEdDd"
      },
      "execution_count": null,
      "outputs": []
    },
    {
      "cell_type": "markdown",
      "source": [
        "We drop the last batch if the size if less than batch size. This creates the batches of same size, which help in stable training"
      ],
      "metadata": {
        "id": "VTDA8HVMF44E"
      }
    },
    {
      "cell_type": "code",
      "source": [
        "def create_dataloader_v1(txt, batch_size=4, max_length=256,\n",
        "                         stride=128, shuffle=True, drop_last=True,\n",
        "                         num_workers=0):\n",
        "\n",
        "    # Initialize the tokenizer\n",
        "    tokenizer = tiktoken.get_encoding(\"gpt2\")\n",
        "\n",
        "    # Create dataset\n",
        "    dataset = GPTDatasetV1(txt, tokenizer, max_length, stride)\n",
        "\n",
        "    # Create dataloader\n",
        "    dataloader = DataLoader(\n",
        "        dataset,\n",
        "        batch_size=batch_size,\n",
        "        shuffle=shuffle,\n",
        "        drop_last=drop_last,\n",
        "        num_workers=num_workers\n",
        "    )\n",
        "\n",
        "    return dataloader"
      ],
      "metadata": {
        "id": "MM5qWQdoFJW0"
      },
      "execution_count": null,
      "outputs": []
    },
    {
      "cell_type": "markdown",
      "source": [
        "Max length is the context length"
      ],
      "metadata": {
        "id": "K2MBDJq-Ga0k"
      }
    },
    {
      "cell_type": "code",
      "source": [
        "dataloader = create_dataloader_v1(raw_text, batch_size=8, max_length=4, stride=4, shuffle=False)"
      ],
      "metadata": {
        "id": "Uq-qwXo7Fkbw"
      },
      "execution_count": null,
      "outputs": []
    },
    {
      "cell_type": "code",
      "source": [
        "data_iter = iter(dataloader)\n",
        "first_batch = next(data_iter)\n",
        "print(first_batch)"
      ],
      "metadata": {
        "colab": {
          "base_uri": "https://localhost:8080/"
        },
        "id": "FteCXgJyGhTy",
        "outputId": "e739fd72-f63f-491a-8701-4055c59b25d9"
      },
      "execution_count": null,
      "outputs": [
        {
          "output_type": "stream",
          "name": "stdout",
          "text": [
            "[tensor([[   40,   367,  2885,  1464],\n",
            "        [ 1807,  3619,   402,   271],\n",
            "        [10899,  2138,   257,  7026],\n",
            "        [15632,   438,  2016,   257],\n",
            "        [  922,  5891,  1576,   438],\n",
            "        [  568,   340,   373,   645],\n",
            "        [ 1049,  5975,   284,   502],\n",
            "        [  284,  3285,   326,    11]]), tensor([[  367,  2885,  1464,  1807],\n",
            "        [ 3619,   402,   271, 10899],\n",
            "        [ 2138,   257,  7026, 15632],\n",
            "        [  438,  2016,   257,   922],\n",
            "        [ 5891,  1576,   438,   568],\n",
            "        [  340,   373,   645,  1049],\n",
            "        [ 5975,   284,   502,   284],\n",
            "        [ 3285,   326,    11,   287]])]\n"
          ]
        }
      ]
    },
    {
      "cell_type": "code",
      "source": [
        "inputs, targets = next(data_iter)\n",
        "print(inputs)\n",
        "print(targets)"
      ],
      "metadata": {
        "colab": {
          "base_uri": "https://localhost:8080/"
        },
        "id": "Qx-6BEiUGpRD",
        "outputId": "fcbc03b2-9acf-4907-f947-8c41264c8ae5"
      },
      "execution_count": null,
      "outputs": [
        {
          "output_type": "stream",
          "name": "stdout",
          "text": [
            "tensor([[  287,   262,  6001,   286],\n",
            "        [  465, 13476,    11,   339],\n",
            "        [  550,  5710,   465, 12036],\n",
            "        [   11,  6405,   257,  5527],\n",
            "        [27075,    11,   290,  4920],\n",
            "        [ 2241,   287,   257,  4489],\n",
            "        [   64,   319,   262, 34686],\n",
            "        [41976,    13,   357, 10915]])\n",
            "tensor([[  262,  6001,   286,   465],\n",
            "        [13476,    11,   339,   550],\n",
            "        [ 5710,   465, 12036,    11],\n",
            "        [ 6405,   257,  5527, 27075],\n",
            "        [   11,   290,  4920,  2241],\n",
            "        [  287,   257,  4489,    64],\n",
            "        [  319,   262, 34686, 41976],\n",
            "        [   13,   357, 10915,   314]])\n"
          ]
        }
      ]
    },
    {
      "cell_type": "markdown",
      "source": [
        "## Create token embeddings\n",
        "token_ids --> token_embeddings"
      ],
      "metadata": {
        "id": "GY1_QBfiHnR1"
      }
    },
    {
      "cell_type": "code",
      "source": [
        "input = torch.tensor([[ 3, 1,  4,  5]])"
      ],
      "metadata": {
        "id": "b2WDFlHVG8YV"
      },
      "execution_count": null,
      "outputs": []
    },
    {
      "cell_type": "code",
      "source": [
        "input2 = torch.tensor([[ 300, 1,  4,  5]])"
      ],
      "metadata": {
        "id": "H1m9GGrOKWvx"
      },
      "execution_count": null,
      "outputs": []
    },
    {
      "cell_type": "code",
      "source": [
        "input"
      ],
      "metadata": {
        "colab": {
          "base_uri": "https://localhost:8080/"
        },
        "id": "Wp1cnlU7H5rP",
        "outputId": "8421e59c-1f35-4bf9-ca90-d651edafa882"
      },
      "execution_count": null,
      "outputs": [
        {
          "output_type": "execute_result",
          "data": {
            "text/plain": [
              "tensor([[3, 1, 4, 5]])"
            ]
          },
          "metadata": {},
          "execution_count": 486
        }
      ]
    },
    {
      "cell_type": "code",
      "source": [
        "vocab_size = 6\n",
        "output_dim = 3\n",
        "torch.manual_seed(42) # nn layer with random weights, so putting seeds to get same weights everytime\n",
        "embedding_layer = torch.nn.Embedding(vocab_size, output_dim)"
      ],
      "metadata": {
        "id": "UcEgsdQ7H7ZK"
      },
      "execution_count": null,
      "outputs": []
    },
    {
      "cell_type": "code",
      "source": [
        "print(embedding_layer.weight)"
      ],
      "metadata": {
        "colab": {
          "base_uri": "https://localhost:8080/"
        },
        "id": "_O9TcVWOIa7E",
        "outputId": "4b70313b-2adb-4efa-ab47-d6faaee054e4"
      },
      "execution_count": null,
      "outputs": [
        {
          "output_type": "stream",
          "name": "stdout",
          "text": [
            "Parameter containing:\n",
            "tensor([[ 1.9269,  1.4873, -0.4974],\n",
            "        [ 0.4396, -0.7581,  1.0783],\n",
            "        [ 0.8008,  1.6806,  0.3559],\n",
            "        [-0.6866,  0.6105,  1.3347],\n",
            "        [-0.2316,  0.0418, -0.2516],\n",
            "        [ 0.8599, -0.3097, -0.3957]], requires_grad=True)\n"
          ]
        }
      ]
    },
    {
      "cell_type": "markdown",
      "source": [
        "Weights of Embedding layer, which are optimised later."
      ],
      "metadata": {
        "id": "phcieVTDInip"
      }
    },
    {
      "cell_type": "code",
      "source": [
        "embedding_layer(torch.tensor([1]))"
      ],
      "metadata": {
        "colab": {
          "base_uri": "https://localhost:8080/"
        },
        "id": "TApqxsEiIjiQ",
        "outputId": "ca8e49da-c79e-4f1d-a208-fa1e80f56108"
      },
      "execution_count": null,
      "outputs": [
        {
          "output_type": "execute_result",
          "data": {
            "text/plain": [
              "tensor([[ 0.4396, -0.7581,  1.0783]], grad_fn=<EmbeddingBackward0>)"
            ]
          },
          "metadata": {},
          "execution_count": 489
        }
      ]
    },
    {
      "cell_type": "code",
      "source": [
        "#embedding_layer(input2)"
      ],
      "metadata": {
        "id": "CnI8XtVpJEdy"
      },
      "execution_count": null,
      "outputs": []
    },
    {
      "cell_type": "markdown",
      "source": [
        "The error IndexError: index out of range in self in cell CnI8XtVpJEdy means that the input input2 contains values that are larger than the vocab_size of your embedding layer.\n",
        "\n",
        "Your embedding layer was initialized with vocab_size = 6, which means it can only accept input indices ranging from 0 to 5. The input input2 must contain at least one value outside of this range.\n",
        "\n",
        "To fix this, you need to ensure that all values in input2 are between 0 and 5 (inclusive). If you intended to use the input tensor defined earlier, you can change input2 to input."
      ],
      "metadata": {
        "id": "fAux4m9hLEz2"
      }
    },
    {
      "cell_type": "code",
      "source": [
        "embedding_layer(input)"
      ],
      "metadata": {
        "colab": {
          "base_uri": "https://localhost:8080/"
        },
        "id": "v8jFYJa1Js9V",
        "outputId": "3ad69bad-b3ca-42b5-d08e-b80ad265adc0"
      },
      "execution_count": null,
      "outputs": [
        {
          "output_type": "execute_result",
          "data": {
            "text/plain": [
              "tensor([[[-0.6866,  0.6105,  1.3347],\n",
              "         [ 0.4396, -0.7581,  1.0783],\n",
              "         [-0.2316,  0.0418, -0.2516],\n",
              "         [ 0.8599, -0.3097, -0.3957]]], grad_fn=<EmbeddingBackward0>)"
            ]
          },
          "metadata": {},
          "execution_count": 491
        }
      ]
    },
    {
      "cell_type": "markdown",
      "source": [
        "### Encoding word positions"
      ],
      "metadata": {
        "id": "fxu0wH5iL2D4"
      }
    },
    {
      "cell_type": "code",
      "source": [
        "vocab_size = 50257\n",
        "output_dim = 256\n",
        "\n",
        "token_embedding_layer = torch.nn.Embedding(vocab_size, output_dim)"
      ],
      "metadata": {
        "id": "Xn66MD5YKwbq"
      },
      "execution_count": null,
      "outputs": []
    },
    {
      "cell_type": "code",
      "source": [
        "max_length = 16\n",
        "dataloader = create_dataloader_v1(raw_text, batch_size=1, max_length=max_length, stride=4, shuffle=False)\n",
        "\n",
        "data_iter = iter(dataloader)\n",
        "inputs, targets = next(data_iter)"
      ],
      "metadata": {
        "id": "-lK2TdVlMAM5"
      },
      "execution_count": null,
      "outputs": []
    },
    {
      "cell_type": "code",
      "source": [
        "inputs"
      ],
      "metadata": {
        "colab": {
          "base_uri": "https://localhost:8080/"
        },
        "id": "iInw_Cv0MUC_",
        "outputId": "1fe8d911-5c3e-47ae-d582-38f6e3b34f17"
      },
      "execution_count": null,
      "outputs": [
        {
          "output_type": "execute_result",
          "data": {
            "text/plain": [
              "tensor([[   40,   367,  2885,  1464,  1807,  3619,   402,   271, 10899,  2138,\n",
              "           257,  7026, 15632,   438,  2016,   257]])"
            ]
          },
          "metadata": {},
          "execution_count": 494
        }
      ]
    },
    {
      "cell_type": "code",
      "source": [
        "token_embeddings = token_embedding_layer(inputs)"
      ],
      "metadata": {
        "id": "vFT4xXG6MVnE"
      },
      "execution_count": null,
      "outputs": []
    },
    {
      "cell_type": "code",
      "source": [
        "token_embeddings.shape"
      ],
      "metadata": {
        "colab": {
          "base_uri": "https://localhost:8080/"
        },
        "id": "Jmv3oDKQMaii",
        "outputId": "f8081636-307f-4d1a-9e0a-883752f86a4e"
      },
      "execution_count": null,
      "outputs": [
        {
          "output_type": "execute_result",
          "data": {
            "text/plain": [
              "torch.Size([1, 16, 256])"
            ]
          },
          "metadata": {},
          "execution_count": 496
        }
      ]
    },
    {
      "cell_type": "markdown",
      "source": [
        "For positional embeddings, Gpt2 uses same layer again.\n",
        "\n",
        "Add each of token embeddings to positional embeddings, and it becomes input embeddings"
      ],
      "metadata": {
        "id": "PmswuEJkNEFL"
      }
    },
    {
      "cell_type": "code",
      "source": [
        "context_length = max_length\n",
        "pos_embeddings_layer = torch.nn.Embedding(context_length, output_dim)"
      ],
      "metadata": {
        "id": "sVY_o_0tMb5u"
      },
      "execution_count": null,
      "outputs": []
    },
    {
      "cell_type": "code",
      "source": [
        "size_of_each_batch = torch.arange(max_length)"
      ],
      "metadata": {
        "id": "D8HY-smhNlEA"
      },
      "execution_count": null,
      "outputs": []
    },
    {
      "cell_type": "code",
      "source": [
        "pos_embeddings_layer.weight"
      ],
      "metadata": {
        "colab": {
          "base_uri": "https://localhost:8080/"
        },
        "id": "ad9yrdEsNpue",
        "outputId": "a0f62503-e588-455c-8cc0-6167fbfe28fc"
      },
      "execution_count": null,
      "outputs": [
        {
          "output_type": "execute_result",
          "data": {
            "text/plain": [
              "Parameter containing:\n",
              "tensor([[ 1.2192, -0.2741,  0.6823,  ..., -2.0313, -0.3160, -0.2499],\n",
              "        [ 0.1600, -2.1962,  0.4126,  ..., -1.1532,  0.4579,  1.3812],\n",
              "        [-0.1451,  0.5679,  0.1859,  ...,  0.2771, -1.2594,  1.3905],\n",
              "        ...,\n",
              "        [-1.7559,  0.0438,  1.1475,  ...,  0.4167,  1.1104,  0.4144],\n",
              "        [-1.9071, -0.9007,  1.7004,  ..., -1.8818,  0.1716,  0.0144],\n",
              "        [-0.1248, -1.0667,  0.4120,  ...,  0.9362,  0.9994,  0.1742]],\n",
              "       requires_grad=True)"
            ]
          },
          "metadata": {},
          "execution_count": 499
        }
      ]
    },
    {
      "cell_type": "code",
      "source": [
        "pos_embeddings = pos_embeddings_layer(size_of_each_batch)"
      ],
      "metadata": {
        "id": "CMYp65aXNrpj"
      },
      "execution_count": null,
      "outputs": []
    },
    {
      "cell_type": "code",
      "source": [
        "pos_embeddings.shape"
      ],
      "metadata": {
        "colab": {
          "base_uri": "https://localhost:8080/"
        },
        "id": "slM5bDIxN7ah",
        "outputId": "ebbba931-22f1-4648-a343-3e434912745b"
      },
      "execution_count": null,
      "outputs": [
        {
          "output_type": "execute_result",
          "data": {
            "text/plain": [
              "torch.Size([16, 256])"
            ]
          },
          "metadata": {},
          "execution_count": 501
        }
      ]
    },
    {
      "cell_type": "code",
      "source": [
        "input_embeddings = token_embeddings + pos_embeddings"
      ],
      "metadata": {
        "id": "VGwZoAjeOAb7"
      },
      "execution_count": null,
      "outputs": []
    },
    {
      "cell_type": "code",
      "source": [
        "input_embeddings.shape"
      ],
      "metadata": {
        "colab": {
          "base_uri": "https://localhost:8080/"
        },
        "id": "1Wq6REn6OFuV",
        "outputId": "006d8f3b-63ad-4ef6-8999-1d912e1965c8"
      },
      "execution_count": null,
      "outputs": [
        {
          "output_type": "execute_result",
          "data": {
            "text/plain": [
              "torch.Size([1, 16, 256])"
            ]
          },
          "metadata": {},
          "execution_count": 503
        }
      ]
    },
    {
      "cell_type": "markdown",
      "source": [
        "# Attention"
      ],
      "metadata": {
        "id": "tnB3_V6cOPCL"
      }
    },
    {
      "cell_type": "markdown",
      "source": [
        "Parsing input with self attention, to get the context of the whole sentence while generating each word, as while generating a word we can just look at the previously generated token in general. It assigns attention scores to each word in the sentence for reference."
      ],
      "metadata": {
        "id": "cchtkURQLYTU"
      }
    },
    {
      "cell_type": "code",
      "source": [
        "# input_embeddings = [torch.tensor(\n",
        "#   [[0.43, 0.15, 0.89], # Your     (x^1)\n",
        "#    [0.55, 0.87, 0.66], # journey  (x^2)\n",
        "#    [0.57, 0.85, 0.64], # starts   (x^3)\n",
        "#    [0.22, 0.58, 0.33], # with     (x^4)\n",
        "#    [0.77, 0.25, 0.10], # one      (x^5)\n",
        "#    [0.05, 0.80, 0.55]] # step     (x^6)\n",
        "# )]\n",
        "\n",
        "# output_dim = 3\n",
        "# max_length = 6"
      ],
      "metadata": {
        "id": "XLogKDguuHdp"
      },
      "execution_count": null,
      "outputs": []
    },
    {
      "cell_type": "code",
      "source": [
        "input_embeddings[0]"
      ],
      "metadata": {
        "colab": {
          "base_uri": "https://localhost:8080/"
        },
        "id": "1nj2EY_xvkNj",
        "outputId": "ad853752-2419-4e07-ed3c-3b2007bff1ab"
      },
      "execution_count": null,
      "outputs": [
        {
          "output_type": "execute_result",
          "data": {
            "text/plain": [
              "tensor([[ 0.9929,  1.2730,  2.4816,  ..., -3.1044, -1.0006, -1.4009],\n",
              "        [ 0.2024, -1.5256,  3.4631,  ...,  0.5621,  0.5827,  1.8916],\n",
              "        [-0.2273,  0.8504,  0.1607,  ..., -1.0865, -0.4518,  0.8350],\n",
              "        ...,\n",
              "        [-2.0435,  0.4572,  1.5234,  ...,  0.7286,  2.2091,  1.1354],\n",
              "        [-0.9065, -1.3995,  0.7922,  ..., -0.7733, -0.1588,  1.0131],\n",
              "        [ 1.1009, -0.8636,  1.7284,  ...,  1.2134,  0.4801,  0.0901]],\n",
              "       grad_fn=<SelectBackward0>)"
            ]
          },
          "metadata": {},
          "execution_count": 505
        }
      ]
    },
    {
      "cell_type": "code",
      "source": [
        "input_embeddings[0].shape[0]"
      ],
      "metadata": {
        "colab": {
          "base_uri": "https://localhost:8080/"
        },
        "id": "I5rYGbeEwNSJ",
        "outputId": "feb95df4-d8be-4cf4-fd17-6088fbbf8b1b"
      },
      "execution_count": null,
      "outputs": [
        {
          "output_type": "execute_result",
          "data": {
            "text/plain": [
              "16"
            ]
          },
          "metadata": {},
          "execution_count": 506
        }
      ]
    },
    {
      "cell_type": "code",
      "source": [
        "query = input_embeddings[0][1] # let's query the second word in the sentence, in first batch."
      ],
      "metadata": {
        "id": "hJx-SZvFOHUb"
      },
      "execution_count": null,
      "outputs": []
    },
    {
      "cell_type": "code",
      "source": [
        "query"
      ],
      "metadata": {
        "colab": {
          "base_uri": "https://localhost:8080/"
        },
        "id": "r9kMN4zxve_K",
        "outputId": "c1d266a4-4312-4c2a-f85a-86fa8e8575fc"
      },
      "execution_count": null,
      "outputs": [
        {
          "output_type": "execute_result",
          "data": {
            "text/plain": [
              "tensor([ 0.2024, -1.5256,  3.4631, -0.3572,  0.7412,  0.4286,  0.0370, -0.0280,\n",
              "        -0.2736,  2.2205,  0.2307, -0.3646, -0.7828,  1.1415,  1.2583,  1.4813,\n",
              "         0.0852,  1.4233, -3.9333,  0.9847,  0.5941,  0.5589,  1.8527,  1.1428,\n",
              "         0.9194,  1.5592, -0.5299, -0.3945,  1.6160, -2.0992,  1.1277, -0.2103,\n",
              "        -1.6615,  0.9536,  0.3687,  2.7760, -1.6139, -1.9557, -0.3317,  2.7021,\n",
              "        -0.1604, -1.5577,  0.4850,  2.2246, -0.0147, -1.3917,  1.7022,  0.5634,\n",
              "         0.3720, -0.1192,  1.5620,  0.4310, -0.1631,  1.1995,  0.2864, -0.7074,\n",
              "        -2.3949,  2.2157, -0.0747, -1.4528,  1.2118, -0.3935, -3.1965,  1.2907,\n",
              "        -1.2329, -1.1810,  0.0480,  0.7396, -0.6971,  0.2765, -0.9201,  2.2997,\n",
              "        -0.2713,  0.9154,  3.1596,  0.7278, -0.8000,  0.7926, -0.2249,  0.5910,\n",
              "         1.6051,  0.8777, -1.3312, -1.7427, -1.5775, -0.6021,  2.4569,  2.0505,\n",
              "         2.7599,  0.8910,  0.1726, -1.1436, -0.5788,  2.5402, -0.1757, -1.3925,\n",
              "         2.6024, -1.4237, -1.9743,  1.0635, -0.8350, -2.3386, -0.9341, -0.8601,\n",
              "        -0.2975,  1.7095,  1.3809, -1.8659, -1.2305,  0.5863,  1.4212,  0.7897,\n",
              "         1.4548, -1.0665, -2.5870, -0.2011, -1.1848, -0.0276, -0.4589, -1.4738,\n",
              "        -0.6196,  0.9302, -1.6936, -0.8259, -0.7840,  0.1041,  0.3550,  3.6307,\n",
              "         1.2192,  2.6246,  3.5740, -0.6305,  1.4208, -0.9764, -0.4249,  0.8634,\n",
              "         0.6505, -0.3726,  1.0487, -0.7053,  1.7622,  1.6613,  1.9600,  0.2145,\n",
              "        -0.3764, -0.0930,  1.5816,  1.9816, -0.0586,  0.4332,  1.0281,  2.5657,\n",
              "         2.1799, -1.5272,  0.5824, -0.9465,  0.7841, -0.6165,  1.6312, -0.2235,\n",
              "        -2.1271, -0.7113, -0.8215,  1.0045,  3.6477,  1.4904, -1.5723, -0.7578,\n",
              "        -0.3790, -2.3288, -1.6768,  1.0628,  1.3169, -0.6123, -0.8299, -0.5619,\n",
              "         0.3547, -1.6404, -0.6110,  0.1412,  0.5575,  0.7155,  2.4507,  2.2041,\n",
              "        -1.9796, -2.6663,  0.8843, -2.2538,  0.7684, -2.4372, -1.0879,  1.0373,\n",
              "        -2.3293,  1.2232, -0.1521, -1.4294,  0.6666, -1.8256, -1.5359,  3.0269,\n",
              "        -0.7519,  0.8615, -1.2078,  0.3987, -1.0075, -0.7526, -0.6076, -0.8690,\n",
              "         1.5669,  0.6765,  0.3422,  1.1205, -1.6954,  1.8231, -1.7956,  0.1863,\n",
              "        -0.3366, -1.3636,  1.1761, -1.5735,  0.3608,  0.9863,  0.7179,  2.2189,\n",
              "        -0.3053, -0.9035, -0.6634,  0.5349, -3.3471,  1.3720, -2.0602, -0.2693,\n",
              "        -1.1731,  0.2283,  2.1453,  2.3839, -1.7306,  0.8498, -1.4788,  0.1325,\n",
              "         1.3298,  0.6035, -0.8557, -1.4397, -0.1867,  2.9925,  0.1137, -0.0704,\n",
              "         1.0131,  2.4371, -0.9963,  0.8016, -2.3480,  0.5621,  0.5827,  1.8916],\n",
              "       grad_fn=<SelectBackward0>)"
            ]
          },
          "metadata": {},
          "execution_count": 508
        }
      ]
    },
    {
      "cell_type": "code",
      "source": [
        "attention_scores_2 = torch.empty(max_length)\n",
        "\n",
        "for i, x_i in enumerate(input_embeddings[0]):\n",
        "  attention_scores_2[i] = torch.dot(x_i, query)\n",
        "\n",
        "print(attention_scores_2)"
      ],
      "metadata": {
        "colab": {
          "base_uri": "https://localhost:8080/"
        },
        "id": "pvGvV54bcLIE",
        "outputId": "ddf00b0b-dd67-4001-d791-82d0abbde618"
      },
      "execution_count": null,
      "outputs": [
        {
          "output_type": "stream",
          "name": "stdout",
          "text": [
            "tensor([-2.1417e+01,  5.2857e+02,  4.9593e+01,  8.3008e+00, -5.7123e+01,\n",
            "        -1.4962e+01,  4.1251e+00,  1.4813e+01,  5.0935e-01, -2.5302e+01,\n",
            "        -4.3514e+01, -3.6953e+01,  6.0200e+01, -2.4985e+00,  4.8889e+01,\n",
            "        -1.2598e+01], grad_fn=<CopySlices>)\n"
          ]
        }
      ]
    },
    {
      "cell_type": "markdown",
      "source": [
        "Attention scores need to be normalized for getting attention weights"
      ],
      "metadata": {
        "id": "CukcBRy-dpQ7"
      }
    },
    {
      "cell_type": "code",
      "source": [
        "attention_weights_2 = torch.softmax(attention_scores_2, dim=0)\n",
        "print(attention_weights_2)"
      ],
      "metadata": {
        "colab": {
          "base_uri": "https://localhost:8080/"
        },
        "id": "f0eTG1uMdoff",
        "outputId": "a8fbacc3-aca5-4ca1-da27-f50b882ac201"
      },
      "execution_count": null,
      "outputs": [
        {
          "output_type": "stream",
          "name": "stdout",
          "text": [
            "tensor([0., 1., 0., 0., 0., 0., 0., 0., 0., 0., 0., 0., 0., 0., 0., 0.],\n",
            "       grad_fn=<SoftmaxBackward0>)\n"
          ]
        }
      ]
    },
    {
      "cell_type": "code",
      "source": [
        "context_vec_2 = torch.zeros(query.shape)\n",
        "\n",
        "for i, x_i in enumerate(input_embeddings[0]):\n",
        "  context_vec_2 += x_i * attention_weights_2[i]\n",
        "\n",
        "print(context_vec_2)"
      ],
      "metadata": {
        "colab": {
          "base_uri": "https://localhost:8080/"
        },
        "id": "sK3lt0i4bx0V",
        "outputId": "f7677464-bbf2-498e-8510-b99c09fbc590"
      },
      "execution_count": null,
      "outputs": [
        {
          "output_type": "stream",
          "name": "stdout",
          "text": [
            "tensor([ 0.2024, -1.5256,  3.4631, -0.3572,  0.7412,  0.4286,  0.0370, -0.0280,\n",
            "        -0.2736,  2.2205,  0.2307, -0.3646, -0.7828,  1.1415,  1.2583,  1.4813,\n",
            "         0.0852,  1.4233, -3.9333,  0.9847,  0.5941,  0.5589,  1.8527,  1.1428,\n",
            "         0.9194,  1.5592, -0.5299, -0.3945,  1.6160, -2.0992,  1.1277, -0.2103,\n",
            "        -1.6615,  0.9536,  0.3687,  2.7760, -1.6139, -1.9557, -0.3317,  2.7021,\n",
            "        -0.1604, -1.5577,  0.4850,  2.2246, -0.0147, -1.3917,  1.7022,  0.5634,\n",
            "         0.3720, -0.1192,  1.5620,  0.4310, -0.1631,  1.1995,  0.2864, -0.7074,\n",
            "        -2.3949,  2.2157, -0.0747, -1.4528,  1.2118, -0.3935, -3.1965,  1.2907,\n",
            "        -1.2329, -1.1810,  0.0480,  0.7396, -0.6971,  0.2765, -0.9201,  2.2997,\n",
            "        -0.2713,  0.9154,  3.1596,  0.7278, -0.8000,  0.7926, -0.2249,  0.5910,\n",
            "         1.6051,  0.8777, -1.3312, -1.7427, -1.5775, -0.6021,  2.4569,  2.0505,\n",
            "         2.7599,  0.8910,  0.1726, -1.1436, -0.5788,  2.5402, -0.1757, -1.3925,\n",
            "         2.6024, -1.4237, -1.9743,  1.0635, -0.8350, -2.3386, -0.9341, -0.8601,\n",
            "        -0.2975,  1.7095,  1.3809, -1.8659, -1.2305,  0.5863,  1.4212,  0.7897,\n",
            "         1.4548, -1.0665, -2.5870, -0.2011, -1.1848, -0.0276, -0.4589, -1.4738,\n",
            "        -0.6196,  0.9302, -1.6936, -0.8259, -0.7840,  0.1041,  0.3550,  3.6307,\n",
            "         1.2192,  2.6246,  3.5740, -0.6305,  1.4208, -0.9764, -0.4249,  0.8634,\n",
            "         0.6505, -0.3726,  1.0487, -0.7053,  1.7622,  1.6613,  1.9600,  0.2145,\n",
            "        -0.3764, -0.0930,  1.5816,  1.9816, -0.0586,  0.4332,  1.0281,  2.5657,\n",
            "         2.1799, -1.5272,  0.5824, -0.9465,  0.7841, -0.6165,  1.6312, -0.2235,\n",
            "        -2.1271, -0.7113, -0.8215,  1.0045,  3.6477,  1.4904, -1.5723, -0.7578,\n",
            "        -0.3790, -2.3288, -1.6768,  1.0628,  1.3169, -0.6123, -0.8299, -0.5619,\n",
            "         0.3547, -1.6404, -0.6110,  0.1412,  0.5575,  0.7155,  2.4507,  2.2041,\n",
            "        -1.9796, -2.6663,  0.8843, -2.2538,  0.7684, -2.4372, -1.0879,  1.0373,\n",
            "        -2.3293,  1.2232, -0.1521, -1.4294,  0.6666, -1.8256, -1.5359,  3.0269,\n",
            "        -0.7519,  0.8615, -1.2078,  0.3987, -1.0075, -0.7526, -0.6076, -0.8690,\n",
            "         1.5669,  0.6765,  0.3422,  1.1205, -1.6954,  1.8231, -1.7956,  0.1863,\n",
            "        -0.3366, -1.3636,  1.1761, -1.5735,  0.3608,  0.9863,  0.7179,  2.2189,\n",
            "        -0.3053, -0.9035, -0.6634,  0.5349, -3.3471,  1.3720, -2.0602, -0.2693,\n",
            "        -1.1731,  0.2283,  2.1453,  2.3839, -1.7306,  0.8498, -1.4788,  0.1325,\n",
            "         1.3298,  0.6035, -0.8557, -1.4397, -0.1867,  2.9925,  0.1137, -0.0704,\n",
            "         1.0131,  2.4371, -0.9963,  0.8016, -2.3480,  0.5621,  0.5827,  1.8916],\n",
            "       grad_fn=<AddBackward0>)\n"
          ]
        }
      ]
    },
    {
      "cell_type": "markdown",
      "source": [
        "## Simple self attention for all inputs without trainable weights"
      ],
      "metadata": {
        "id": "eHm1CKBNetlO"
      }
    },
    {
      "cell_type": "markdown",
      "source": [
        "This is for 1st batch only"
      ],
      "metadata": {
        "id": "4LwtOUYTyQs0"
      }
    },
    {
      "cell_type": "code",
      "source": [
        "attention_scores = torch.empty(max_length, max_length)\n",
        "print(input_embeddings[0].shape)\n",
        "\n",
        "for i, x_i in enumerate(input_embeddings[0]):\n",
        "  for j, x_j in enumerate(input_embeddings[0]):\n",
        "    attention_scores[i, j] = x_i.dot(x_j)\n",
        "\n",
        "print(attention_scores)\n",
        "print(attention_scores.shape)"
      ],
      "metadata": {
        "colab": {
          "base_uri": "https://localhost:8080/"
        },
        "id": "nY9Jf4Oseb0G",
        "outputId": "01ad0519-5f0c-4eef-cc7c-382d08a69585"
      },
      "execution_count": null,
      "outputs": [
        {
          "output_type": "stream",
          "name": "stdout",
          "text": [
            "torch.Size([16, 256])\n",
            "tensor([[ 4.7055e+02, -2.1417e+01,  7.9083e+00,  1.3565e+00,  1.6035e+00,\n",
            "         -1.4744e+01,  5.5573e+01,  1.1527e+01, -7.0634e+01, -1.9790e+01,\n",
            "         -1.5545e-01,  1.2248e+01,  3.1930e+01,  3.6030e+01,  1.4739e+01,\n",
            "          1.1818e+01],\n",
            "        [-2.1417e+01,  5.2857e+02,  4.9593e+01,  8.3008e+00, -5.7123e+01,\n",
            "         -1.4962e+01,  4.1251e+00,  1.4813e+01,  5.0935e-01, -2.5302e+01,\n",
            "         -4.3514e+01, -3.6953e+01,  6.0200e+01, -2.4985e+00,  4.8889e+01,\n",
            "         -1.2598e+01],\n",
            "        [ 7.9083e+00,  4.9593e+01,  5.5046e+02, -3.8664e+01, -2.4345e+00,\n",
            "         -2.9529e+01,  9.1606e+00,  3.2558e+01, -6.2929e+01,  6.8157e+01,\n",
            "          1.2723e+00, -3.2723e+01, -2.7900e+01,  3.8270e+01, -3.8404e+01,\n",
            "         -3.2785e+01],\n",
            "        [ 1.3565e+00,  8.3008e+00, -3.8664e+01,  4.4035e+02, -1.0155e+01,\n",
            "          5.1974e+01,  2.9931e+01, -2.4154e-01,  9.8480e+00,  2.8886e+01,\n",
            "          3.6532e+01, -5.5056e+01, -3.8941e+00, -1.2686e+01, -5.1219e+01,\n",
            "         -7.3850e-01],\n",
            "        [ 1.6035e+00, -5.7123e+01, -2.4345e+00, -1.0155e+01,  4.4631e+02,\n",
            "          4.7734e+00, -2.6986e+01,  1.9766e+01, -3.2842e+01, -2.8572e+01,\n",
            "         -2.8254e+01,  4.6450e+01, -1.3596e+01, -1.8740e+01,  5.6423e+01,\n",
            "          2.0124e+01],\n",
            "        [-1.4744e+01, -1.4962e+01, -2.9529e+01,  5.1974e+01,  4.7734e+00,\n",
            "          4.4604e+02,  5.3966e+01, -2.3862e+01,  6.2078e+01,  3.9889e+01,\n",
            "          4.9648e+01,  1.6873e+01, -2.5604e+01, -2.1549e+01,  6.6258e+01,\n",
            "          1.2736e+01],\n",
            "        [ 5.5573e+01,  4.1251e+00,  9.1606e+00,  2.9931e+01, -2.6986e+01,\n",
            "          5.3966e+01,  4.5853e+02, -7.8613e+01,  4.6309e-01,  1.0298e+01,\n",
            "         -2.1973e+01, -4.0061e+00,  4.6009e+01,  1.4482e+00, -3.4569e+01,\n",
            "         -2.8486e+01],\n",
            "        [ 1.1527e+01,  1.4813e+01,  3.2558e+01, -2.4154e-01,  1.9766e+01,\n",
            "         -2.3862e+01, -7.8613e+01,  5.3918e+02, -2.3673e+01,  3.3051e+01,\n",
            "          3.0580e+01,  2.4452e+01, -6.0774e+01, -7.2394e+01,  4.5711e+01,\n",
            "         -1.4108e+00],\n",
            "        [-7.0634e+01,  5.0935e-01, -6.2929e+01,  9.8480e+00, -3.2842e+01,\n",
            "          6.2078e+01,  4.6309e-01, -2.3673e+01,  6.1212e+02, -2.6644e+01,\n",
            "          2.6566e+01,  3.8613e+00, -2.2426e+01, -4.6879e+01, -5.4009e-01,\n",
            "          6.6883e+00],\n",
            "        [-1.9790e+01, -2.5302e+01,  6.8157e+01,  2.8886e+01, -2.8572e+01,\n",
            "          3.9889e+01,  1.0298e+01,  3.3051e+01, -2.6644e+01,  5.4288e+02,\n",
            "         -2.9548e+01, -9.3879e+00,  3.5628e+00,  2.4036e+01, -1.9476e+01,\n",
            "         -6.6890e+01],\n",
            "        [-1.5545e-01, -4.3514e+01,  1.2723e+00,  3.6532e+01, -2.8254e+01,\n",
            "          4.9648e+01, -2.1973e+01,  3.0580e+01,  2.6566e+01, -2.9548e+01,\n",
            "          4.4812e+02,  5.6571e+01,  1.1721e+00, -3.6736e+01,  1.0059e+01,\n",
            "          2.3568e+02],\n",
            "        [ 1.2248e+01, -3.6953e+01, -3.2723e+01, -5.5056e+01,  4.6450e+01,\n",
            "          1.6873e+01, -4.0061e+00,  2.4452e+01,  3.8613e+00, -9.3879e+00,\n",
            "          5.6571e+01,  5.3623e+02, -3.2854e+01, -1.1374e+01,  3.7129e+01,\n",
            "          7.2668e+01],\n",
            "        [ 3.1930e+01,  6.0200e+01, -2.7900e+01, -3.8941e+00, -1.3596e+01,\n",
            "         -2.5604e+01,  4.6009e+01, -6.0774e+01, -2.2426e+01,  3.5628e+00,\n",
            "          1.1721e+00, -3.2854e+01,  5.3664e+02,  2.3504e+01, -4.7537e+01,\n",
            "         -3.4022e+01],\n",
            "        [ 3.6030e+01, -2.4985e+00,  3.8270e+01, -1.2686e+01, -1.8740e+01,\n",
            "         -2.1549e+01,  1.4482e+00, -7.2394e+01, -4.6879e+01,  2.4036e+01,\n",
            "         -3.6736e+01, -1.1374e+01,  2.3504e+01,  5.2491e+02, -1.2446e+01,\n",
            "         -1.5406e+00],\n",
            "        [ 1.4739e+01,  4.8889e+01, -3.8404e+01, -5.1219e+01,  5.6423e+01,\n",
            "          6.6258e+01, -3.4569e+01,  4.5711e+01, -5.4009e-01, -1.9476e+01,\n",
            "          1.0059e+01,  3.7129e+01, -4.7537e+01, -1.2446e+01,  4.7566e+02,\n",
            "          5.2201e+00],\n",
            "        [ 1.1818e+01, -1.2598e+01, -3.2785e+01, -7.3850e-01,  2.0124e+01,\n",
            "          1.2736e+01, -2.8486e+01, -1.4108e+00,  6.6883e+00, -6.6890e+01,\n",
            "          2.3568e+02,  7.2668e+01, -3.4022e+01, -1.5406e+00,  5.2201e+00,\n",
            "          4.6406e+02]], grad_fn=<CopySlices>)\n",
            "torch.Size([16, 16])\n"
          ]
        }
      ]
    },
    {
      "cell_type": "code",
      "source": [
        "attention_weights = torch.softmax(attention_scores, dim=0)"
      ],
      "metadata": {
        "id": "i28joBsCfgl-"
      },
      "execution_count": null,
      "outputs": []
    },
    {
      "cell_type": "code",
      "source": [
        "context_vec = torch.empty(max_length, output_dim)\n",
        "\n",
        "for j in range(max_length):\n",
        "  for i, x_i in enumerate(input_embeddings[0]):\n",
        "      context_vec[j] += x_i * attention_weights[j][i]\n",
        "\n",
        "print(context_vec.shape)"
      ],
      "metadata": {
        "colab": {
          "base_uri": "https://localhost:8080/"
        },
        "id": "t_xfN1MAy9hq",
        "outputId": "c38a6ec6-ee8e-48e8-e6b4-d65de424eca0"
      },
      "execution_count": null,
      "outputs": [
        {
          "output_type": "stream",
          "name": "stdout",
          "text": [
            "torch.Size([16, 256])\n"
          ]
        }
      ]
    },
    {
      "cell_type": "code",
      "source": [
        "context_vec[1]"
      ],
      "metadata": {
        "colab": {
          "base_uri": "https://localhost:8080/"
        },
        "id": "f2R5fgBJ0StI",
        "outputId": "c2db85d7-e5ac-44b6-9a36-8edee7c62060"
      },
      "execution_count": null,
      "outputs": [
        {
          "output_type": "execute_result",
          "data": {
            "text/plain": [
              "tensor([ 2.0243e-01, -1.5256e+00,  3.4631e+00, -3.5721e-01,  7.4116e-01,\n",
              "         4.2861e-01,  3.7044e-02, -2.7969e-02, -2.7362e-01,  2.2205e+00,\n",
              "         2.3067e-01, -3.6459e-01, -7.8278e-01,  1.1415e+00,  1.2583e+00,\n",
              "         1.4813e+00,  8.5225e-02,  1.4233e+00, -3.9333e+00,  9.8467e-01,\n",
              "         5.9412e-01,  5.5894e-01,  1.8527e+00,  1.1428e+00,  9.1944e-01,\n",
              "         1.5592e+00, -5.2993e-01, -3.9450e-01,  1.6160e+00, -2.0992e+00,\n",
              "         1.1277e+00, -2.1026e-01, -1.6615e+00,  9.5357e-01,  3.6869e-01,\n",
              "         2.7760e+00, -1.6139e+00, -1.9557e+00, -3.3174e-01,  2.7021e+00,\n",
              "        -1.6040e-01, -1.5577e+00,  4.8504e-01,  2.2246e+00, -1.4680e-02,\n",
              "        -1.3917e+00,  1.7022e+00,  5.6339e-01,  3.7203e-01, -1.1917e-01,\n",
              "         1.5620e+00,  4.3099e-01, -1.6315e-01,  1.1995e+00,  2.8641e-01,\n",
              "        -7.0738e-01, -2.3949e+00,  2.2157e+00, -7.4739e-02, -1.4528e+00,\n",
              "         1.2118e+00, -3.9352e-01, -3.1965e+00,  1.2907e+00, -1.2329e+00,\n",
              "        -1.1810e+00,  4.8032e-02,  7.3961e-01, -6.9714e-01,  2.7650e-01,\n",
              "        -9.2006e-01,  2.2997e+00, -2.7135e-01,  9.1544e-01,  3.1596e+00,\n",
              "         7.2777e-01, -8.0003e-01,  7.9260e-01, -2.2487e-01,  5.9101e-01,\n",
              "         1.6051e+00,  8.7773e-01, -1.3312e+00, -1.7427e+00, -1.5775e+00,\n",
              "        -6.0214e-01,  2.4569e+00,  2.0505e+00,  2.7599e+00,  8.9096e-01,\n",
              "         1.7258e-01, -1.1436e+00, -5.7879e-01,  2.5402e+00, -1.7574e-01,\n",
              "        -1.3925e+00,  2.6024e+00, -1.4237e+00, -1.9743e+00,  1.0635e+00,\n",
              "        -8.3495e-01, -2.3386e+00, -9.3406e-01, -8.6010e-01, -2.9746e-01,\n",
              "         1.7095e+00,  1.3809e+00, -1.8659e+00, -1.2305e+00,  5.8626e-01,\n",
              "         1.4212e+00,  7.8967e-01,  1.4548e+00, -1.0665e+00, -2.5870e+00,\n",
              "        -2.0106e-01, -1.1848e+00, -2.7589e-02, -4.5891e-01, -1.4738e+00,\n",
              "        -6.1957e-01,  9.3020e-01, -1.6936e+00, -8.2590e-01, -7.8399e-01,\n",
              "         1.0411e-01,  1.5650e+12,  3.6307e+00,  1.2192e+00,  2.6246e+00,\n",
              "         3.5740e+00, -6.3051e-01,  1.4208e+00, -9.7644e-01, -4.2485e-01,\n",
              "         8.6340e-01,  6.5047e-01, -3.7262e-01,  1.0487e+00, -7.0529e-01,\n",
              "         1.7622e+00,  1.6613e+00,  1.9600e+00,  2.1445e-01, -3.7637e-01,\n",
              "        -9.2976e-02,  1.5816e+00,  1.9816e+00, -5.8601e-02,  4.3321e-01,\n",
              "         1.0281e+00,  2.5657e+00,  2.1799e+00, -1.5272e+00,  5.8237e-01,\n",
              "        -9.4655e-01,  7.8407e-01, -6.1651e-01,  1.6312e+00, -2.2353e-01,\n",
              "        -2.1271e+00, -7.1131e-01, -8.2147e-01,  1.0045e+00,  3.6477e+00,\n",
              "         1.4904e+00, -1.5723e+00, -7.5779e-01, -3.7904e-01, -2.3288e+00,\n",
              "        -1.6768e+00,  1.0628e+00,  1.3169e+00, -6.1233e-01, -8.2987e-01,\n",
              "        -5.6195e-01,  3.5473e-01, -1.6404e+00, -6.1095e-01,  1.4119e-01,\n",
              "         5.5750e-01,  7.1555e-01,  2.4507e+00,  2.2041e+00, -1.9796e+00,\n",
              "        -2.6663e+00,  8.8432e-01, -2.2538e+00,  7.6840e-01, -2.4372e+00,\n",
              "        -1.0879e+00,  1.0373e+00, -2.3293e+00,  1.2232e+00, -1.5205e-01,\n",
              "        -1.4294e+00,  6.6656e-01, -1.8256e+00, -1.5359e+00,  3.0269e+00,\n",
              "        -7.5186e-01,  8.6152e-01, -1.2078e+00,  3.9871e-01, -1.0075e+00,\n",
              "        -7.5258e-01, -6.0764e-01, -8.6897e-01,  1.5669e+00,  6.7651e-01,\n",
              "         3.4223e-01,  1.1205e+00,  8.8374e+15,  1.8231e+00, -1.7956e+00,\n",
              "         1.8626e-01, -3.3656e-01, -1.3636e+00,  1.1761e+00, -1.5735e+00,\n",
              "         3.6075e-01,  9.8634e-01,  7.1788e-01,  2.2189e+00, -3.0525e-01,\n",
              "        -9.0349e-01, -6.6344e-01,  5.3487e-01, -3.3471e+00,  1.3720e+00,\n",
              "        -2.0602e+00, -2.6933e-01, -1.1731e+00,  2.2827e-01,  2.1453e+00,\n",
              "         2.3839e+00, -1.7306e+00,  8.4977e-01, -1.4788e+00,  1.3253e-01,\n",
              "         1.3298e+00,  6.0347e-01, -8.5572e-01, -1.4397e+00, -1.8671e-01,\n",
              "         2.9925e+00,  1.1373e-01, -7.0379e-02,  1.0131e+00,  2.4371e+00,\n",
              "        -9.9625e-01,  8.0161e-01, -2.3480e+00,  5.6207e-01,  5.8266e-01,\n",
              "         1.8916e+00], grad_fn=<SelectBackward0>)"
            ]
          },
          "metadata": {},
          "execution_count": 515
        }
      ]
    },
    {
      "cell_type": "markdown",
      "source": [
        "## Implementing self-attention with trainable weights"
      ],
      "metadata": {
        "id": "JenlkSzY1gu4"
      }
    },
    {
      "cell_type": "code",
      "source": [],
      "metadata": {
        "id": "IHy829vg02Gl"
      },
      "execution_count": null,
      "outputs": []
    }
  ]
}